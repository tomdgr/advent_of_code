{
 "cells": [
  {
   "cell_type": "code",
   "execution_count": 4,
   "metadata": {},
   "outputs": [],
   "source": [
    "import re"
   ]
  },
  {
   "cell_type": "code",
   "execution_count": 26,
   "metadata": {},
   "outputs": [],
   "source": [
    "def parse_input():\n",
    "    with open('in') as f:\n",
    "        list_numbers = []\n",
    "        for line in f.readlines():\n",
    "            list_numbers.append(line.strip(\"\\n\"))\n",
    "    return list_numbers\n",
    "\n",
    "\n",
    "def extract_result_list(text,big_list):\n",
    "    # Regular expression pattern to find \"Game <number>:\"\n",
    "    pattern = r\"Game (\\d+):\"\n",
    "    match = re.search(pattern, text)\n",
    "    calculate_on_list = []\n",
    "    if match:\n",
    "        # Extracting the first group which is the number\n",
    "        calculate_on_list.append(int(match.group[1]))\n",
    "    else:\n",
    "        # Return None if no match is found\n",
    "        return None\n",
    "    \n",
    "    \n",
    "\n",
    "    patterns = [pattern_1, pattern_2, pattern_3]\n",
    "    for pattern in patterns:\n",
    "        match = re.search(pattern,text)\n",
    "        calculate_on_list.append(int(match.group[1]))\n",
    "\n",
    "    big_list.append(calculate_on_list)\n",
    "    \n",
    "    return big_list\n",
    "        \n",
    "\n",
    "def "
   ]
  },
  {
   "cell_type": "code",
   "execution_count": 40,
   "metadata": {},
   "outputs": [
    {
     "ename": "TypeError",
     "evalue": "There are no type variables left in list['4', '', '']",
     "output_type": "error",
     "traceback": [
      "\u001b[0;31m---------------------------------------------------------------------------\u001b[0m",
      "\u001b[0;31mTypeError\u001b[0m                                 Traceback (most recent call last)",
      "\u001b[1;32m/Users/tomdg/Projects/private/advent_of_code/2023/day_2/day_2.ipynb Cell 3\u001b[0m line \u001b[0;36m1\n\u001b[1;32m     <a href='vscode-notebook-cell:/Users/tomdg/Projects/private/advent_of_code/2023/day_2/day_2.ipynb#W1sZmlsZQ%3D%3D?line=11'>12</a>\u001b[0m possible\u001b[39m=\u001b[39m\u001b[39mTrue\u001b[39;00m\n\u001b[1;32m     <a href='vscode-notebook-cell:/Users/tomdg/Projects/private/advent_of_code/2023/day_2/day_2.ipynb#W1sZmlsZQ%3D%3D?line=12'>13</a>\u001b[0m \u001b[39mfor\u001b[39;00m i \u001b[39min\u001b[39;00m result:\n\u001b[0;32m---> <a href='vscode-notebook-cell:/Users/tomdg/Projects/private/advent_of_code/2023/day_2/day_2.ipynb#W1sZmlsZQ%3D%3D?line=13'>14</a>\u001b[0m     \u001b[39mif\u001b[39;00m ( \u001b[39mlist\u001b[39;49m[i][\u001b[39m0\u001b[39;49m]\u001b[39m!=\u001b[39m\u001b[39m'\u001b[39m\u001b[39m'\u001b[39m \u001b[39mand\u001b[39;00m \u001b[39mlist\u001b[39m[i][\u001b[39m0\u001b[39m]\u001b[39m>\u001b[39m\u001b[39m12\u001b[39m):\n\u001b[1;32m     <a href='vscode-notebook-cell:/Users/tomdg/Projects/private/advent_of_code/2023/day_2/day_2.ipynb#W1sZmlsZQ%3D%3D?line=14'>15</a>\u001b[0m         possible\u001b[39m=\u001b[39m\u001b[39mFalse\u001b[39;00m\n\u001b[1;32m     <a href='vscode-notebook-cell:/Users/tomdg/Projects/private/advent_of_code/2023/day_2/day_2.ipynb#W1sZmlsZQ%3D%3D?line=16'>17</a>\u001b[0m     \u001b[39melif\u001b[39;00m (\u001b[39mlist\u001b[39m[i][\u001b[39m1\u001b[39m]\u001b[39m!=\u001b[39m\u001b[39m'\u001b[39m\u001b[39m'\u001b[39m \u001b[39mand\u001b[39;00m \u001b[39mlist\u001b[39m[i][\u001b[39m1\u001b[39m]\u001b[39m>\u001b[39m\u001b[39m13\u001b[39m):\n",
      "\u001b[0;31mTypeError\u001b[0m: There are no type variables left in list['4', '', '']"
     ]
    }
   ],
   "source": [
    "input = parse_input()\n",
    "total_sum = 0\n",
    "counter = 1\n",
    "for line in input:\n",
    "    pattern_1 = r\"(\\d+) red|(\\d+) green|(\\d+) blue\"\n",
    "\n",
    "    result = re.findall(pattern_1,line)\n",
    "    \n",
    "    possible_dict = {\"red\": \"12\",\n",
    "                     \"13\":\"green\",\n",
    "                     \"14\": \"blue\" }\n",
    "    possible=True\n",
    "    for i in result:\n",
    "        if ( list[i][0]!='' and int(list[i][0])>12):\n",
    "            possible=False\n",
    "\n",
    "        elif (list[i][1]!='' and list[i][1]>13):\n",
    "            possible=False\n",
    "        elif (list[i][2]!='' and list[i][2]>14):\n",
    "            possible=False\n",
    "        else:\n",
    "            possible = True\n",
    "\n",
    "    if possible == True:\n",
    "        total_sum +=counter\n",
    "\n",
    "    counter+=1\n",
    "\n",
    "\n",
    "\n",
    "\n",
    "\n",
    "         \n",
    "\n",
    "\n",
    "\n",
    "        \n",
    "\n",
    "\n",
    "    \n"
   ]
  },
  {
   "cell_type": "code",
   "execution_count": 28,
   "metadata": {},
   "outputs": [],
   "source": []
  }
 ],
 "metadata": {
  "kernelspec": {
   "display_name": "daskvenv",
   "language": "python",
   "name": "python3"
  },
  "language_info": {
   "codemirror_mode": {
    "name": "ipython",
    "version": 3
   },
   "file_extension": ".py",
   "mimetype": "text/x-python",
   "name": "python",
   "nbconvert_exporter": "python",
   "pygments_lexer": "ipython3",
   "version": "3.9.6"
  }
 },
 "nbformat": 4,
 "nbformat_minor": 2
}
