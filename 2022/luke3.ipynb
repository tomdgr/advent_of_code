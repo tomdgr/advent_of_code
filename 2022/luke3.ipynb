{
 "cells": [
  {
   "cell_type": "code",
   "execution_count": 81,
   "metadata": {
    "collapsed": true
   },
   "outputs": [],
   "source": [
    "with open('data/luke3.txt') as f:\n",
    "    list_carriage_R = []\n",
    "    list_carriage_L = []\n",
    "    for line in f.readlines():\n",
    "        t=line.strip(\"\\n\")\n",
    "        a,b = t[len(t)//2:],t[:len(t)//2]\n",
    "        list_carriage_R.append(a)\n",
    "        list_carriage_L.append(b)\n",
    "\n"
   ]
  },
  {
   "cell_type": "code",
   "execution_count": 82,
   "outputs": [
    {
     "data": {
      "text/plain": "['n',\n 'j',\n 'P',\n 'D',\n 'n',\n 'P',\n 'r',\n 'P',\n 'Z',\n 'C',\n 'Q',\n 'N',\n 'd',\n 'b',\n 'L',\n 'H',\n 'b',\n 's',\n 'j',\n 'V',\n 'z',\n 'M',\n 't',\n 'S',\n 'j',\n 't',\n 'H',\n 'S',\n 'l',\n 'r',\n 'f',\n 'l',\n 'J',\n 'T',\n 'L',\n 'R',\n 'R',\n 'N',\n 'W',\n 'w',\n 'G',\n 'P',\n 'n',\n 'M',\n 'C',\n 'h',\n 'G',\n 'b',\n 'N',\n 'L',\n 'V',\n 't',\n 'S',\n 'C',\n 'L',\n 'S',\n 'v',\n 'D',\n 'd',\n 'C',\n 'w',\n 's',\n 'l',\n 'D',\n 'b',\n 'h',\n 'W',\n 'T',\n 'l',\n 'P',\n 'b',\n 'F',\n 'j',\n 'B',\n 'd',\n 'S',\n 'w',\n 'c',\n 'L',\n 'F',\n 'P',\n 'C',\n 'w',\n 'M',\n 'q',\n 'C',\n 'V',\n 'M',\n 'H',\n 'p',\n 'm',\n 'S',\n 'H',\n 'j',\n 's',\n 'P',\n 'l',\n 'v',\n 'j',\n 'n',\n 'R',\n 'S',\n 'V',\n 'N',\n 'n',\n 'v',\n 'V',\n 'B',\n 'C',\n 'c',\n 'v',\n 'g',\n 'c',\n 'W',\n 'T',\n 's',\n 'J',\n 'L',\n 'w',\n 'Q',\n 'L',\n 'B',\n 'z',\n 'r',\n 'D',\n 'W',\n 'Q',\n 'S',\n 'c',\n 'q',\n 'C',\n 'v',\n 'q',\n 'n',\n 'M',\n 'Z',\n 'q',\n 'C',\n 'Q',\n 'l',\n 'v',\n 'w',\n 's',\n 'F',\n 'r',\n 'n',\n 's',\n 'l',\n 'D',\n 'C',\n 'd',\n 'R',\n 'W',\n 'z',\n 'R',\n 'V',\n 'h',\n 'v',\n 'W',\n 'm',\n 'S',\n 'J',\n 'g',\n 'Z',\n 'P',\n 'r',\n 'v',\n 'J',\n 'g',\n 'd',\n 'l',\n 'z',\n 's',\n 'M',\n 'C',\n 'v',\n 'h',\n 'J',\n 'V',\n 'f',\n 'B',\n 'l',\n 'n',\n 'P',\n 'F',\n 't',\n 's',\n 'Q',\n 'b',\n 'V',\n 'z',\n 'B',\n 'q',\n 'P',\n 'R',\n 'W',\n 'H',\n 'l',\n 'R',\n 't',\n 'z',\n 'P',\n 'S',\n 'N',\n 'L',\n 'C',\n 'J',\n 'G',\n 'P',\n 'L',\n 'S',\n 'M',\n 'J',\n 's',\n 'G',\n 'm',\n 'T',\n 'B',\n 'v',\n 'P',\n 'L',\n 'j',\n 'w',\n 'g',\n 'p',\n 'V',\n 'N',\n 's',\n 'Z',\n 'r',\n 'R',\n 'm',\n 'z',\n 'Z',\n 'V',\n 'j',\n 'G',\n 'j',\n 'C',\n 's',\n 'R',\n 't',\n 'p',\n 't',\n 'F',\n 'S',\n 'f',\n 'D',\n 'S',\n 's',\n 'q',\n 'L',\n 'H',\n 'f',\n 'J',\n 'G',\n 'm',\n 'v',\n 'f',\n 'V',\n 'Q',\n 'Z',\n 'r',\n 'D',\n 'b',\n 'v',\n 'z',\n 'N',\n 'L',\n 'b',\n 'R',\n 'D',\n 'r',\n 'f',\n 's',\n 'd',\n 'b',\n 'Z',\n 't',\n 'l',\n 'J',\n 'c',\n 'N',\n 'm',\n 't',\n 'B',\n 'J',\n 'c',\n 'J',\n 'Q',\n 'F',\n 'm',\n 'H',\n 'Q',\n 'T',\n 'L',\n 'b',\n 'p',\n 'V',\n 'R']"
     },
     "execution_count": 82,
     "metadata": {},
     "output_type": "execute_result"
    }
   ],
   "source": [
    "common_item = []\n",
    "for i in range(len(list_carriage_R)):\n",
    "    for item in list_carriage_R[i]:\n",
    "        if item in list_carriage_L[i]:\n",
    "            common_item.append(item)\n",
    "            break\n",
    "common_item"
   ],
   "metadata": {
    "collapsed": false
   }
  },
  {
   "cell_type": "code",
   "execution_count": 83,
   "outputs": [
    {
     "data": {
      "text/plain": "8349"
     },
     "execution_count": 83,
     "metadata": {},
     "output_type": "execute_result"
    }
   ],
   "source": [
    "current_sum = 0\n",
    "\n",
    "for i in common_item:\n",
    "    if i.islower():\n",
    "        current_sum += (ord(i) - 96)\n",
    "    else:\n",
    "        current_sum+= (ord(i)-38)\n",
    "\n",
    "current_sum"
   ],
   "metadata": {
    "collapsed": false
   }
  },
  {
   "cell_type": "code",
   "execution_count": 84,
   "outputs": [
    {
     "data": {
      "text/plain": "52"
     },
     "execution_count": 84,
     "metadata": {},
     "output_type": "execute_result"
    }
   ],
   "source": [
    "ord(\"Z\")-38"
   ],
   "metadata": {
    "collapsed": false
   }
  },
  {
   "cell_type": "markdown",
   "source": [
    "# Task 2"
   ],
   "metadata": {
    "collapsed": false
   }
  },
  {
   "cell_type": "code",
   "execution_count": 85,
   "outputs": [],
   "source": [
    "with open('data/luke3.txt') as f:\n",
    "    elves_backpacks = []\n",
    "    for line in f.readlines():\n",
    "        t=line.strip(\"\\n\")\n",
    "        elves_backpacks.append(t)\n",
    "\n"
   ],
   "metadata": {
    "collapsed": false
   }
  },
  {
   "cell_type": "code",
   "execution_count": 86,
   "outputs": [
    {
     "data": {
      "text/plain": "['QtGHnGlcwQGvHwMHGnnGfRFCJnRBfVVJRVBfCFBh',\n 'qsDjzNWhmspNNqVrfjVfjJCbBVfB',\n 'DLhPTmNDTzTqzpmzLpswGMHtMgwglcPQMQvSGM',\n 'ctwDjvgtltgglHrSHCsQWBBDfS',\n 'ZJZdVnmhmfCprnBTfS',\n 'dNddhhdPRRdbdNcvwCPCgCctjPlF',\n 'MNNDGMWrQsfhtrTnrm',\n 'jcvRPRPJdvccRNFNCjLdcwJCSHtHPmzhsSzPHmfhnftnTffH',\n 'RddRcjRvZgZNWNgQQb',\n 'fPrvhqhRPSfCCfhrqtbtLcmZmtHCtpCFcc',\n 'WFQJlTdzgGJVQGWQTzdJcHbQZtLtHmbbZMZHsZQm',\n 'JFNlzTBNJGlNPSRhfqRRrN',\n 'tdVVgttdDtJJsNPmzdQmjcPP',\n 'CBTMmmmbTBHqHMwQcZPWWsWnzbbnzW',\n 'CGlLFCTMGvqBGvGvGSRSRfmtRRtgVgrSLS',\n 'LHSGJLWZLqHQHpRHRz',\n 'bpBPVtpCwPgBCtqqvzfzMQvjbbjz',\n 'lhVsTgPlBNThpBNwBtVThPnrGGWJZnLZFnFrGWsFrWZr',\n 'nQbbbjpnsdsGCSlmHtJmvljHMjWt',\n 'cDcgThLVcPTHVlVlHllvWp',\n 'cwpgghTcRRczDhnQGGCSdfszdSbS',\n 'vTMFDNTlDhjTDNMNJDwmWWWfGPfLnnzLGfMmmL',\n 'bVQgbpqqtctzLflltnCz',\n 'VSqlVSHRFvNwJSDj',\n 'RfZfjljffssWLWPTGPjhzT',\n 'FDCvMDMJJpBJpBFJCMBDMtPbWbLVPGztWPVTtPmLWGhQ',\n 'DpgHggpwBJwzJMrFFvrCrHsffnRScNsdclSnnRnSNs',\n 'wTvfHSvSwssPGCLCPhgSCn',\n 'QNpMRqRJQMZlBBbRRRMfbZlBhPChghhlChGCtnthctjPhchh',\n 'rrrNBbMZqRbqDsFHTwfWTFFwrF',\n 'fVgfQhhgfTLHSLNZZHfZ',\n 'CDtsqrqlDtqDddsqjsstHrSlNLWLcSZScFWWcNBFcBcc',\n 'jrCJrHjDCMMDsJjJMstThppgwvGzVGQzhJvvng',\n 'DGlTlSzbSnzmwbmblTBBPgffpNjFHppZBH',\n 'WqQdWqqJdCrtvQtJLQjtdcBNfPsNZfHZZsHNNZHsBBHL',\n 'cCJcjdRvqrQhqvWMzlbDGVGbSMSnbR',\n 'BfQmpfpmsRCRPDSZVSjjSg',\n 'MhNJGMTMHGGTbnGMJrbJHTzzdPgSwSqqPjPdZddSqNSwPZDw',\n 'TWbWbhnHWBFBFBDD',\n 'FrlJbTcBTcrlTlqwZTwWdhWLChLtVhdfLhmwWC',\n 'pppSpzBGMMMjSSMSzMNzHRSDVWGWDWVCDtGdtdhLhftthd',\n 'RNNgpMPRNgzggFJcBPqFZJZrbc',\n 'SdvnnvvntnbDDqtz',\n 'wRpFRRspZhgZgFggFMgtczcGGDzQcGlGDMqcDG',\n 'CLLCFNZhsppRvvttBPCjStdT',\n 'JJDMhSwmMwBnnJPJmQcFtfQtfgQhQQfcgH',\n 'ZvCvTGqGVWTZZWptQggGtHfDgcpz',\n 'dsVCvDTZWWbZqqCZqVsqsqmNlPNnSJmbNNmlmMSnJLBl',\n 'MGnMBMBJFpBcNpdwRWRvRNdblmwW',\n 'LSgtPCChgjCPgSSzCSqWLLbrdWlmwmwmFvml',\n 'QhHPVSHghCtQFgCzgQhVnDGMGffnpcZMcMfJDf',\n 'QwrJqMLRLtBQRtWLJLvQLMrMgNNzPDngNHlHnbbbggHlgZNt',\n 'GdfThGcmShTGSfppmFfTHDNNblSZDbbzlBzZZHHg',\n 'TffmGBBFcCFFmTGFhBwjJQJMQWqWQCrrvQMR',\n 'mRbrjZzRLchHqqdLDllh',\n 'mCGCsJSggCmgSGShlhhDVVVwhqSltV',\n 'PsfsGNGJvGPfspvcmrTRBrjTZzvT',\n 'NRNqFFtqqFrDDQRcJJJNrWDswHwWwbDVTgTwLbVlVD',\n 'ZpdHHGPmgwTwldbw',\n 'HnnnMPMzChPmnpnmfFJCRqcJqJRRrrtSBc',\n 'LnNNLBmTNBNTwNZZjZmRMHJwMHvbWrvPMMWdcP',\n 'GtSFDFpzsGVvMJdJsrMbvr',\n 'SqQQGGtqqSVtDpGtplVDpVJClmnhnTZNjNfmnmBChCZL',\n 'CHltTDsjHNHHdpDRmqdPQpzd',\n 'fMMbbZwLJgMVVFmcRqRpzdqbRm',\n 'MJJWfnVhMzTNGlNTsh',\n 'WtWbtWvrrQGrbcSWHHfSHfgdWJ',\n 'zpnPhLPhPnTMMnzMzpMnDzLPjTVjccSgdmjdvSJdHSgdjScj',\n 'qqvMMCnDCCCzqqCzhPlLsRsGtrsNlRbZtBRtbrrQ',\n 'mPTmlGQnjNTPQQNljnlQnmmCtgRPhghqgqgzqLRPtMqqMzhq',\n 'pDsVSZcdVspbdBpcBHBcHhqLWzMbfhMMrMgMgzLRft',\n 'pFZpJJFSBFRllvlFNC',\n 'pbMVjJbwbbLqlZlstRhjstsN',\n 'FSTnfCBcnBSBvSmmCFCCRQhZBZNsRGlsQQNsqZlG',\n 'dvcdfFcqmfcmdMdJgwJJHMbH',\n 'QSRlWDhQQqDqlTCjTRCSljSmVsPmmGmzsgvppzPVVzdPSP',\n 'HHwtMNMZvfPGbdwdggwG',\n 'ZFcNMFFvHLMjlCWrqhqchh',\n 'jccDSGVVlRLVSVVScWZZwLvbphgwdpLwZv',\n 'BQHBtfQQHBfmMtmFznrHzmDwghWphvZZFpDhZvgvpZhh',\n 'DmQrPQnBtTnzrrfHrtfMrmTCGqPNjSPCRRGjRCRRqCNjVN',\n 'bRDbbtVgPFFbDfgVCtPcGsNNsHccqcGGWCNNzW',\n 'ZwlmJwwRSmlJdQRhqGNTqzGTwzqGhc',\n 'ZQdZjpljldrSMjmjdRLdmdbVvvtDVFFffvBFPVBgMnBg',\n 'rzwGrwPGppqzPMzrdqsssSsvgtQgTTTJsH',\n 'LCNNHLmHWvCJstsJss',\n 'cfVLLNBmZBVMVDHGwrhM',\n 'FCGFrJltMGdFdGtlFtCgFzQfQnZfVVVMDcQDVzVjfD',\n 'PSPSPZPRbPRsbBRbHBTPvfVzQcDQqWWnDjnnHDjzcz',\n 'RmSTPwSTRpvSlZglgZprZtNp',\n 'njtLGLbcNTbbLnLmNTtqnFzVPwJFFzPVFPwMVmfMmV',\n 'srpZlSpsSVqgSPJJ',\n 'HZsHsrZhrBQpqQvpdprnTnnHTbGLbHnjHGbjbT',\n 'vFFnJjvnVSjgCqSCDZ',\n 'lswrrcsQrHTHwdrDdhmqqsRhzmggghgsGC',\n 'QPrWQWcDNDHdddNrQPfDMLMLtvvMbnBpPFvpFFvL',\n 'LgltlRMtcccgMdlzqTVwwrdsqm',\n 'FpvfSDNzSpnvGSnNpmsmVqVVrHwvTqVmmw',\n 'pGjDFFDpffnWQbnzjLJhhLchPPJMPBLt',\n 'lJqBqPvtvVPnttnJjJBjVMzMrFhdQrQFbGbQnrbzGG',\n 'msRgTgmTLLmsTDRfQRllMdGzdRbMHQFF',\n 'msfDWglWTpSLCgTpSCDsfPjvjtwVjJZqqSSvPVZSqB',\n 'VZZWGZGlZZZMZrGMlQBQGWltFzqvzzcVcgzvmgzddccgvqFc',\n 'rLjNrDRLDRLTqdCqFCNzFgqg',\n 'TJSSbHfDDfSnbpHpJnGhWPtrZWnPhBwWPWBt',\n 'ssvsDDjNwhjNhGGgDDRZllltLCLvCWbMffLCfWzb',\n 'qVRmJFSQqqVcqSMWMWLMlllbtbVM',\n 'PqQBPcFJFcmdrJPJrFrQpsNjnTGgwTwGssRNRnRBsG',\n 'sHsJJfSsrpBLHCLJmdqgdZgRNZQlgRNC',\n 'VtnFbhFhwjwVPPjhbccQDQqgRlWDQmdWZZDd',\n 'hFhFvbhGwzvFbtbPnttGbtjsLBfspSrMvJLrpJTrMsLZrH',\n 'nzJDJvvZznnqnZrpTgTpzzTNjlmtsglBjjttQQCgCCtlBj',\n 'SRLRfdVfSVcfHdVVdSLdMHQjPtClsmcwNQltjwjCQQwm',\n 'RShVLWWfWWGvsTZz',\n 'vcdptvndNzrndjctrvcnvtTdbwwRTgwbHDFDTWgqWlWqwqbl',\n 'ffVBmQPhshhfPmSfBPfChmmCWFWbDWFbWwwqRDbsgwWMbWFb',\n 'SJJCBLZBhfvnJnpGtvRc',\n 'HLMMHHpNqWHqFqppPWnshtsLhBnVDtthLLms',\n 'JgmSRgCRGbgwGSbgJJjRRDntztrVhnsDrllllwhhzt',\n 'bRRCCjgRvJQQdcdjjvRcQdgbZPZpqfqpHHMfNFqNTPWqQWmq',\n 'PPwQTlFrLqrLQrPfPJrHtcjtSvdCNNctLCjNdc',\n 'DGZMhmVRMGqVmVDnGMbBZhsjHNvjdstddjdjccSBSjds',\n 'mqzVnWDmmGzRhqRbbWQQFwPQQTlzPFpTlPJJ',\n 'RMmnMrZMlQQpGrQt',\n 'gPPgcDBcjdgjBCBcQtNDNzzthltGphhz',\n 'FSvPSSjFWFScSWdjWvbTwWJQZQVRsMTQVwTmVR',\n 'PwlbMTDQDvMwttThPthhvhvvZzNLzNZjQCNNLWLCRZWQRzNW',\n 'VpJHFpgfqdFqqHFGHVSdGmZZRnSsnLjNZCWmmszLSz',\n 'drrJRGJVrcMBDwhDbcMh',\n 'hghHTgbwHbDqHrgbbbSLzzFNnsVqNVBnLnfs',\n 'jMlcMRRmGcRlZQMMJRJSPPmCFzBBzpfBfLfpFLszLNNFVCfz',\n 'JlmGlZmvRMgvrgbrrSTw',\n 'ZtTTHpprHtQtHtpqPmjVSScjVSjjSNqw',\n 'nRvGWhRbnRGzvWCBGPjNdwcSwcnlJdmmSj',\n 'vCbsmbWfRsRWWzsMWBQFFrDZpgpFHLgQLMgQ',\n 'QlJBfZssjgZsQsDNbScdDZdNcvvF',\n 'zrGrVVpVMWMwMVLMwqVWpRdNFSDcFNDFbSddqHldDdqd',\n 'VLVtrWpMRCRLWGWMRwVGCVPfCPJnBTQsJlmjsfsPBQjC',\n 'GQqpnnFWFcnWpBMhhSZRhQCCCfRQRD',\n 'HsbcczlrjzflffLVfDlt',\n 'jssvwsHPsjzWdMcgBnvqMB',\n 'JMJdMptTbbtpJZhtTMZwJdNWQBPNBlwNBNQWHBCHHPlg',\n 'rVqsvVmjrcCqCPsPNQgnsnQglW',\n 'rVvzfqvLjFVDVcLjCqLmJFGbpJpRJTGMtbRpdGRG',\n 'LrmwdZHlSlcVlSrrDWCzbtpjpgzjtD',\n 'gBGgPTTBqPQTqnnPJhMTTCzzppnCvptpnCtzNpDntz',\n 'qQPTTPshRRQqcgsflHZcsSLV',\n 'smvdTvlPzslmVjMhJlbjrblJ',\n 'cqFffFffcwFfpcDSjcnZwZWrQVDrQBhNbrrNBbWVbNhr',\n 'nSpRZRjpcHqpCpqnqFRGmvPLtLGmCdCsGLLdtC',\n 'PJPLPPHDdPvdnbctfcpt',\n 'NRrGNjNzLjltppvpRSRS',\n 'LzVWLjTWGLQqBgZWJWBBFg',\n 'znzccGnswWrWNCpvvdTCzddC',\n 'RfZlRDDDZflSBMhhhPSMMZpmpHHGNCGTmCJTmvmCvJGR',\n 'GbBMhhbSMhMffDMZPggSGfhVWLwjsLttWtrjWscVLWnQWswn',\n 'jwRzdZZhwhwHSQqpStJHhp',\n 'GVGPBvNPvffpvtvp',\n 'nsGGDVtFNGgGWjWlTwrwTmjwTR',\n 'MQtmmMMmnHGGTmhw',\n 'llqvqvvpqdvvrSfrpSfdfnhFSTMNDHFMNFFSGFwMHT',\n 'JqvvRgpCfrzCpqqzdfRpRllWZZBQJbVVtMttsVWJbjPbcc',\n 'zgqBczqBbBGjdHVgdDFd',\n 'lNVhNNnLtZZZGWjdWrSW',\n 'PCQhNflCtCwtJwhClMmVcRmpbPqTcmBqpm',\n 'wWbqbTwVrQLqlMtrZtZffNfMfP',\n 'vhjqqRpRvZsfssZN',\n 'ccBjJBqGpRhDGbJldHlgLwddLd',\n 'hVScjtgcchVhSgZJSchVwLbNLWnLNwwnwrbWNLgr',\n 'BzMdBqzBQzZQPpfrsrbrNdNLsrRR',\n 'zPMzmmGpmzGlFQPPmlZPzSVTSVJJcSlcDhTlvSCtjJ',\n 'hzdwlqngZQvDfmzF',\n 'vcRrcsVNpVQsFfBfPPQB',\n 'HCHVWVcCpNMHWRjLwhvhggdjvggM',\n 'LBHCTPzHHBcClwppwjjNNl',\n 'JddZMRmmssVmvDvJddSJWVWBwpQvwfpwvwwfrrFNQfwjpl',\n 'BsVMVZDVZssZhMhJqLzhzzHzPTPnLGqb',\n 'bcnNQnBTvvvWTQTJhdHJzhSjpJJjStjd',\n 'mMwqwVMMRwhBtjdSVBVl',\n 'GfsrwCRmZBcZTvBf',\n 'bBjQmmmqWdLqvLbWLtNJccNZZgCBCZgCTg',\n 'phfpfzpHPDwfMwvVzlhlJJlggcZgZcRFFlCgZg',\n 'zfhpMMDpVVzzhHhzzMMwfnMfSmQmbQvvWqWjmLSqdQmrqjjn',\n 'ZzdcbGTwLZwPPwpMPWpjWPpWChBC',\n 'nmznNRFHQrqQvqqmmMfWWWpMFjspWFMWjB',\n 'zqRDSmDrmvnvntGccGdcTVtLTlVG',\n 'nfnVscTcDzsZqmRtjtsqjJ',\n 'wnnhWPWLBNwPLHdQdWdHPHLdJjqRRqrvjrmqFtvRqtQRqFjm',\n 'bWhHdBBLdLnShWHcTVzCfCpVDTblpT',\n 'WSjVFSVTSWvgvFwpgTTFsfdVclhNCfsHnHlHsCfV',\n 'zRqLqZqZZQcdNltfHzsd',\n 'ZqBqGLLRcjWWBvTT',\n 'wwBqgZfbgbZsvWmfJrtFrdDttqdFdLct',\n 'SNSSVTnnThnCSPPnzVztQJJQdLPtFcGLdFGDsD',\n 'lSlszRVsRjmmfjfRRf',\n 'NGzGWSLzMdQtcctbgWjt',\n 'vqTnfVVHBffnCmHgMtrrrHrgtcrt',\n 'vqCDVlFnnCnnBSzlspSzLSNMLL',\n 'rwVlfVMRSTqTgRhT',\n 'pppjLtpZjHFHNhsctSqDDVtnns',\n 'HNjJLFBFHZZzWbVBZGfwdGrMfCCfGvmzlM',\n 'zFzztqWnJttqqzJtdqbtqbPVMGcGZwgPGVwGQjwCCggMZQ',\n 'hssLlrsSrBmBrZGSfgwgSwQCcj',\n 'BmBBDBHLrlNhLNHrpsDvLJNtddczdRzzcTqJzzdWnc',\n 'pLWcpGSscLQPDzLBgdbmdZHBHmZB',\n 'lntfCfVMvtttqVqnZHHbbBZmwwwCdHhc',\n 'qqRJFfRFRNlTzSSWWzSJpc',\n 'DrphDfFrdGGjTTgTgCSV',\n 'vbsMZPnPvqHMQvtZZPWBBVVBJjWSVTPjJC',\n 'nMbnsRSQvvLRMsssQhdFrcwczLlDrrDzhz',\n 'LLlDQlcLDqLSlCDRlRDCqTTzzgNzShSBdZGBFBBgNG',\n 'nHnMwPPbrWwpmztdMtzFZZFtTN',\n 'PJfbZmHrpJfZDRLlDlLcVsVJ',\n 'wZwQsrrzQFQSrRSFbzDglcdCcdljjdlljcvslLhv',\n 'VPqGJtqqfnJcCLFllFMGcd',\n 'fNHPJWpmHfffqJHmwzgbrBDZrDbFRQ',\n 'HggtSJtzrgltshlTsrzbzsgbFddfffDZwZRZZZGfGDRTNNZZ',\n 'LnjWccmQBPWqmWPqMfFNdGBRCDFFSfDfRd',\n 'WpMjWpMcWSjqqPjQLmvmjMgllsbgbtvsrrtvJgJHhrHl',\n 'PMcMcBpztMztzPPhbSgGSvgfHD',\n 'nsmsVQVZVQmTRmddrLgfFhfLgLDzgvffDhbF',\n 'dwsjrQQrVwTmZRTzsTdBcjqlqWpcCCppcllltC',\n 'DbVjbjwNMDTCVbhbTNDrVTTmzFGLFLHcLHzmcWFczLHwmH',\n 'PPWsfBZngtZqZZnPgZnPqvmFmczgRHGmGSRRSSLGFF',\n 'sntBlWPdnspnnPQZtnNNNMjhMNrVMjMThjpr',\n 'rCrCWVvvWDnBWvDnWDMCMZTpThhGGhGRGqGqZmhZqV',\n 'NNjQMzNzQjjwNmJNmZddpdTG',\n 'QwtwLPcjPtQlHSSslzwHSlPQDfDWsggsvvBvDvnvgngCnvFM',\n 'ZDCbvbDvvHbCGTWpZTtWWQnn',\n 'hLqzLVhVwNwVfMnJrfqMzWrQddgmQQGdgpgQGmgjTj',\n 'wlVNwJJfVRLPRnHRbFHRsP',\n 'lLmvLGRCrmDwVPVsjmtBBQmt',\n 'NSHWNbzSHWpSpfChqqJPnzBJsBPPJnQJ',\n 'pWcHbNfWpgZcWbhbZSgchWpRdCZMMdGDFFrLwlwMRRZFdd',\n 'PnNrFVZQHNDrmNQPflbhbfqbvhwbVfvq',\n 'TCdTtpCtCWTBMtjTJMWtBMCLSfvbqqzqbljflwDLvLjLLf',\n 'MCCGcpCJRWTTMGmPnDFNQQnDns',\n 'FhSmttZmgLjJVMlVGllGjcrj',\n 'NRNvNWNCdnNrBvWvwRdWvvvRCGcbVVQbMQGcGcVcMclzVVlG',\n 'qwBsBWwnvdtHJJSrtHsr',\n 'wnwPrnBBPgqRPjhgCRGCLvvbRZcJvCbb',\n 'dWVdVdlMHtsTslMtzztFGGczvvGJzL',\n 'fMflHpddJfNNVfNWWmDqQpwBgwnjPBQDjqBh',\n 'WttGctsNCNrfwTMlBtlr',\n 'HJLzLJJVnFjHbnbVjDHDdFqwwffTTfTGwrqwBBTT',\n 'jgVgJSbnHjNWsWCSWWGG',\n 'ssLfHLvrrfMMlBMRMfpd',\n 'qbbhmGCCVDQhQQVzDDbqmhMBtDZdBZHlddpltpBpdlJd',\n 'QhQbzqCGzVzSbqzLHjLgrcjvPSnnSL',\n 'NGGZGsGFCGvCcnCcgnZWrPHjsJjHjTDjJHfrjHDP',\n 'RzzQmwwmdRRwMqRQmZwtfrDPfTfrbjHqrDPTHr',\n 'MBLphmLpSzdRlnWZCNcGLgLG',\n 'LwPPHZLLWRMWMsHqTCjmTTjSTn',\n 'lFpNNpzplbfphzNcQzVcpvzsnqTsggmnjfgqCDsnCDqsgS',\n 'vFJJhQVhbcVddLtmWZJdmm',\n 'GwMNMGBMRMGjdSGsDntglDrDGQ',\n 'WTmPPzfmlQrsnQmg',\n 'ZPTJVvllhBwvLvwRwj',\n 'nlSvqqFqzfnbnvFwwsGHTBHgPfWsTrRPgG',\n 'dMdjphVhhgdLVJhNRBGPRWWBBGPTTGHV',\n 'thJgLpghLNLhNQMCtdMhSmFlQnzzwnbzlbqqSQFb',\n 'ZJJLBWhJBNwJwLvgRgGRgbZqbHTbGT',\n 'cCrfFFnzjmdrdrmmzsgSPSHSbHWPRgrgGR',\n 'dmCFntnFctjfdVtttjtDVncfBDlNJJppwQMwNBNvvplppWNh',\n 'GGNNNbNbqmsmTVbCDQQhDJQT',\n 'rgPvdgMdPdBddvMcrMnvgcSwhClTTJCwClDTvLJJthTlth',\n 'zBdWpnDBDmfFGRffzH',\n 'WNNNWcDcdVHNQTNT',\n 'lLvLctvrvvvPCpHLQQTZVQLTTHBV',\n 'zltgpbPCrrmtlmrlhhbqcWMqDDMDFMfbGScc',\n 'dzSHRCGZGdRQWQWtllWB',\n 'mNmbLbbmwjsmsNjDmcPvpVHBVPQvWDWBBpvB',\n 'jnmNNrLcnnjjHhSCdGMSfrfd',\n 'mgGvfvJSmSSrbvScmGccTPCqNnRjlpNNfNjqwqlpNpfw',\n 'zZLLQFFFtsFwWjjRqbbCsW',\n 'hBBLBdFHddVrGbVc',\n 'bJGchsCcHwbHfgvg',\n 'qdlSSNqLPqlPQZDffgfZRZMghvZr',\n 'PLtqtFTPNLlWlqtQqqQzBBmcnschGtjtnChmzC',\n 'llNLDLzjDtCTVtClCDMHSlmwdmmdSmddwZSS',\n 'gPJszvsBPbwSHZRQSJQJ',\n 'bgFssFPcWhDjCzLcnNDD',\n 'ZTGMwdhMwMJphZMJlNdVBCnncNPLBCCRPnCncn',\n 'fWsqmfSsqvfFFFvmWjfSSsPLCwVPRnPRCmRnRRCVzRCV',\n 'FQfQfvStwjtqsjvvQWFfWqWtlMDdGTJJGdMdhJtDMbllDZ',\n 'DzZLpBDptpVPrrrFPqRmBj',\n 'WsfCTTgMllCWJMlhslNsCFJrGqvmRPqmqZjGFjvmvm',\n 'HfghcNghHhgNNfbDDZdcdpndDzpt',\n 'RRBRdJfccVRdDJqdDrvwShwvztWJlWwSJn',\n 'mPtCHPPmHbmHNZjjjQHbMSgrSWhWzWnnQwvzzrlrll',\n 'tpFmjpmjFMCmppmVTVLFVfBqTqVDLd',\n 'jtljZcTcVVtdggVmdczzzDPzvCsvRbDsDmvm',\n 'MHHnnJMFMNpwSNprpMJrfsbPRRbWDGLbHLDRvzzssR',\n 'rJFNvQfBSwQBwNwldZTqTtctQchthc',\n 'WsWTWsfjgTJGSnTz',\n 'RHNmvRLCpJclcNcvHpNcPBzgQgMnnGFnLFgPgnPF',\n 'mHlcdbbccZcCCCNZZNcCWtthWbWqwwJsbDfthfwW',\n 'vFFzppnHFrjmpljQhg',\n 'JPGfPWVdwfPgQzVQlTrQrZ',\n 'PwRJfGDBfCHMzRHNHMNR']"
     },
     "execution_count": 86,
     "metadata": {},
     "output_type": "execute_result"
    }
   ],
   "source": [
    "elves_backpacks"
   ],
   "metadata": {
    "collapsed": false
   }
  },
  {
   "cell_type": "code",
   "execution_count": 87,
   "outputs": [],
   "source": [
    "common_badge = \"\"\n",
    "badge_list = []\n",
    "for i in range(len(elves_backpacks)):\n",
    "\n",
    "    if (i)%3 ==0:\n",
    "        common_badge=\"\"\n",
    "        for badge in elves_backpacks[i]:\n",
    "            if badge in elves_backpacks[i+1] and badge in elves_backpacks[i+2]:\n",
    "                badge_list.append(badge)\n",
    "                break\n",
    "\n",
    "\n"
   ],
   "metadata": {
    "collapsed": false
   }
  },
  {
   "cell_type": "code",
   "execution_count": 88,
   "outputs": [
    {
     "data": {
      "text/plain": "['h',\n 'C',\n 'N',\n 'F',\n 'm',\n 'p',\n 'p',\n 'l',\n 'z',\n 'f',\n 'H',\n 'j',\n 'D',\n 'B',\n 't',\n 'D',\n 'F',\n 'B',\n 'm',\n 'H',\n 'J',\n 'z',\n 'v',\n 'R',\n 'q',\n 'v',\n 'D',\n 'R',\n 'H',\n 'Z',\n 'q',\n 'D',\n 'z',\n 'l',\n 'r',\n 'R',\n 'Z',\n 's',\n 'R',\n 'm',\n 'q',\n 'Q',\n 'R',\n 'S',\n 'm',\n 'l',\n 'c',\n 'C',\n 'g',\n 'j',\n 'L',\n 'G',\n 't',\n 'M',\n 'V',\n 'q',\n 'Z',\n 'v',\n 'B',\n 'B',\n 'v',\n 'z',\n 'n',\n 'c',\n 's',\n 'M',\n 'V',\n 'c',\n 'c',\n 'S',\n 'Z',\n 'F',\n 'S',\n 'z',\n 'W',\n 'M',\n 'n',\n 'C',\n 'D',\n 'r',\n 'J',\n 'G',\n 'H',\n 'Z',\n 'm',\n 'l',\n 'g',\n 'W',\n 'D',\n 'c',\n 'H',\n 'b',\n 'h',\n 'z',\n 'w',\n 'Z',\n 't',\n 'v',\n 'J',\n 'z']"
     },
     "execution_count": 88,
     "metadata": {},
     "output_type": "execute_result"
    }
   ],
   "source": [
    "badge_list"
   ],
   "metadata": {
    "collapsed": false
   }
  },
  {
   "cell_type": "code",
   "execution_count": 89,
   "outputs": [
    {
     "data": {
      "text/plain": "100"
     },
     "execution_count": 89,
     "metadata": {},
     "output_type": "execute_result"
    }
   ],
   "source": [
    "len(badge_list)"
   ],
   "metadata": {
    "collapsed": false
   }
  },
  {
   "cell_type": "code",
   "execution_count": 90,
   "outputs": [
    {
     "data": {
      "text/plain": "2681"
     },
     "execution_count": 90,
     "metadata": {},
     "output_type": "execute_result"
    }
   ],
   "source": [
    "current_sum = 0\n",
    "\n",
    "for i in badge_list:\n",
    "    if i.islower():\n",
    "        current_sum += (ord(i) - 96)\n",
    "    else:\n",
    "        current_sum+= (ord(i)-38)\n",
    "\n",
    "current_sum"
   ],
   "metadata": {
    "collapsed": false
   }
  },
  {
   "cell_type": "code",
   "execution_count": null,
   "outputs": [],
   "source": [],
   "metadata": {
    "collapsed": false
   }
  }
 ],
 "metadata": {
  "kernelspec": {
   "display_name": "Python 3",
   "language": "python",
   "name": "python3"
  },
  "language_info": {
   "codemirror_mode": {
    "name": "ipython",
    "version": 2
   },
   "file_extension": ".py",
   "mimetype": "text/x-python",
   "name": "python",
   "nbconvert_exporter": "python",
   "pygments_lexer": "ipython2",
   "version": "2.7.6"
  }
 },
 "nbformat": 4,
 "nbformat_minor": 0
}
