{
 "cells": [
  {
   "cell_type": "markdown",
   "metadata": {},
   "source": []
  },
  {
   "cell_type": "code",
   "execution_count": null,
   "metadata": {},
   "outputs": [],
   "source": [
    "import numpy as np"
   ]
  },
  {
   "cell_type": "code",
   "execution_count": null,
   "metadata": {},
   "outputs": [],
   "source": [
    "m = list()\n",
    "for i in range(0, 9):\n",
    "    n = []\n",
    "    m.append(n)\n",
    "\n",
    "len(m)"
   ]
  },
  {
   "cell_type": "code",
   "execution_count": null,
   "metadata": {},
   "outputs": [],
   "source": [
    "\n",
    "with open('data/luke5.txt') as f:\n",
    "    stack = []\n",
    "    instructions = []\n",
    "    counter=0\n",
    "    for line in f.readlines():\n",
    "\n",
    "        if (\"move\" not in line):\n",
    "            nums=[1,5,9,13,17,21,25,29,33]\n",
    "            \n",
    "            for i,val in enumerate(line):\n",
    "                for j, num in enumerate(nums):\n",
    "                    if i == num:\n",
    "\n",
    "                        m[j].append(val)\n",
    "                    \n",
    "            counter+=1\n",
    "            \n",
    "        \n",
    "        else:\n",
    "            t=line.replace(\"\\n\",\"\").replace(\"move\",\"\").replace(\"from\",\"\").replace(\"to\",\"\")\n",
    "            \n",
    "            t=t.split(\" \") \n",
    "            for i in t:\n",
    "                if i ==\"\":\n",
    "                    t.remove(i)\n",
    "            instructions.append(t)\n"
   ]
  },
  {
   "cell_type": "code",
   "execution_count": null,
   "metadata": {},
   "outputs": [],
   "source": [
    "m"
   ]
  },
  {
   "cell_type": "code",
   "execution_count": null,
   "metadata": {},
   "outputs": [],
   "source": [
    "for i in m:\n",
    "    for j in i:\n",
    "        if j ==\" \":\n",
    "            i.remove(j)\n",
    "\n",
    "m"
   ]
  },
  {
   "cell_type": "code",
   "execution_count": null,
   "metadata": {},
   "outputs": [],
   "source": [
    "stack = m.copy()\n",
    "empty= []\n",
    "for i in stack:\n",
    "    i = list(reversed(i))\n",
    "    empty.append(i)\n",
    "empty"
   ]
  },
  {
   "cell_type": "code",
   "execution_count": null,
   "metadata": {},
   "outputs": [],
   "source": [
    "instructions"
   ]
  },
  {
   "cell_type": "code",
   "execution_count": null,
   "metadata": {},
   "outputs": [],
   "source": [
    "stack=empty.copy()\n",
    "stack2=stack.copy()"
   ]
  },
  {
   "cell_type": "code",
   "execution_count": null,
   "metadata": {},
   "outputs": [],
   "source": [
    "empty"
   ]
  },
  {
   "cell_type": "code",
   "execution_count": null,
   "metadata": {},
   "outputs": [],
   "source": [
    "\n",
    "a = 3\n",
    "b = empty[0][-a:]\n",
    "for i in b:\n",
    "\n",
    "    empty[1].append(i)\n"
   ]
  },
  {
   "cell_type": "code",
   "execution_count": null,
   "metadata": {},
   "outputs": [],
   "source": [
    "empty"
   ]
  },
  {
   "cell_type": "code",
   "execution_count": null,
   "metadata": {},
   "outputs": [],
   "source": [
    "m"
   ]
  },
  {
   "cell_type": "code",
   "execution_count": null,
   "metadata": {},
   "outputs": [],
   "source": [
    "for i in instructions:\n",
    "    num_appends=int(i[0])\n",
    "    from_target=int(i[1])-1\n",
    "    to_target=int(i[2])-1\n",
    "\n",
    "    tmp = stack[from_target][-num_appends:]\n",
    "    for i in range(num_appends):\n",
    "        stack[from_target].pop()\n",
    "\n",
    "    for i in b:\n",
    "        stack[1].append(i)\n",
    "\n",
    "        "
   ]
  },
  {
   "cell_type": "code",
   "execution_count": null,
   "metadata": {},
   "outputs": [],
   "source": [
    "stack"
   ]
  },
  {
   "cell_type": "code",
   "execution_count": null,
   "metadata": {},
   "outputs": [],
   "source": [
    "TWSGQHNHL"
   ]
  }
 ],
 "metadata": {
  "kernelspec": {
   "display_name": "Python 3.10.6 64-bit",
   "language": "python",
   "name": "python3"
  },
  "language_info": {
   "codemirror_mode": {
    "name": "ipython",
    "version": 3
   },
   "file_extension": ".py",
   "mimetype": "text/x-python",
   "name": "python",
   "nbconvert_exporter": "python",
   "pygments_lexer": "ipython3",
   "version": "3.10.6"
  },
  "vscode": {
   "interpreter": {
    "hash": "aee8b7b246df8f9039afb4144a1f6fd8d2ca17a180786b69acc140d282b71a49"
   }
  }
 },
 "nbformat": 4,
 "nbformat_minor": 2
}
